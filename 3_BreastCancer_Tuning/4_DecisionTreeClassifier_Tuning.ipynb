{
 "cells": [
  {
   "cell_type": "code",
   "execution_count": null,
   "id": "21534bce-d544-40b1-8dbc-3b156b374b54",
   "metadata": {},
   "outputs": [],
   "source": [
    "from sklearn.model_selection import GridSearchCV\n",
    "from sklearn.tree import DecisionTreeClassifier\n",
    "\n",
    "# Define parameter grid\n",
    "param_grid = {\n",
    "    'max_depth': [None, 5, 10, 15, 20],\n",
    "    'min_samples_split': [2, 5, 10, 20],\n",
    "    'min_samples_leaf': [1, 2, 4, 8],\n",
    "    'criterion': ['gini', 'entropy']\n",
    "}\n",
    "\n",
    "# Create model\n",
    "dt = DecisionTreeClassifier(random_state=42)\n",
    "\n",
    "# Perform grid search with 5-fold cross-validation\n",
    "grid_search = GridSearchCV(dt, param_grid, cv=5, scoring='accuracy', n_jobs=-1)\n",
    "grid_search.fit(X_train, y_train)\n",
    "\n",
    "# Best parameters and score\n",
    "print(f\"Best parameters: {grid_search.best_params_}\")\n",
    "print(f\"Best cross-validation score: {grid_search.best_score_:.4f}\")\n",
    "\n",
    "# Best model\n",
    "best_dt = grid_search.best_estimator_\n",
    "best_dt"
   ]
  },
  {
   "cell_type": "markdown",
   "id": "a0a6e64e-32d6-48da-ba07-6f549cc133fe",
   "metadata": {},
   "source": [
    "## Cost-Complexity Pruning Approach"
   ]
  },
  {
   "cell_type": "code",
   "execution_count": null,
   "id": "3874e581-5f82-43c4-9834-ab6ca7d57a8c",
   "metadata": {},
   "outputs": [],
   "source": [
    "# Generate pruning path\n",
    "path = dt.cost_complexity_pruning_path(X_train, y_train)\n",
    "alphas = path['ccp_alphas']\n",
    "\n",
    "# Test different alpha values\n",
    "dt_scores = []\n",
    "for alpha in alphas:\n",
    "    dt_pruned = DecisionTreeClassifier(random_state=42, ccp_alpha=alpha)\n",
    "    dt_pruned.fit(X_train, y_train)\n",
    "    dt_scores.append(dt_pruned.score(X_val, y_val))\n",
    "\n",
    "# Plot alpha vs accuracy to find optimal value\n",
    "import matplotlib.pyplot as plt\n",
    "plt.plot(alphas, dt_scores)\n",
    "plt.xlabel('Alpha')\n",
    "plt.ylabel('Accuracy')"
   ]
  },
  {
   "cell_type": "markdown",
   "id": "f945335c-83fc-40a6-8b3a-9c85ec445db3",
   "metadata": {},
   "source": [
    "## Visualization for Tuning\n",
    "Visualizing tree structure and performance metrics helps with parameter selection:"
   ]
  },
  {
   "cell_type": "code",
   "execution_count": null,
   "id": "fd9c1e47-975b-4461-a22d-35afe1e6735f",
   "metadata": {},
   "outputs": [],
   "source": [
    "from sklearn import tree\n",
    "import matplotlib.pyplot as plt\n",
    "\n",
    "# Plot tree\n",
    "plt.figure(figsize=(20,10))\n",
    "tree.plot_tree(dt, filled=True, feature_names=feature_names, class_names=class_names)\n",
    "\n",
    "# Plot learning curves to detect overfitting\n",
    "from sklearn.model_selection import learning_curve\n",
    "train_sizes, train_scores, test_scores = learning_curve(\n",
    "    dt, X, y, cv=5, n_jobs=-1, train_sizes=np.linspace(0.1, 1.0, 10))\n",
    "\n",
    "plt.figure(figsize=(10, 6))\n",
    "plt.plot(train_sizes, np.mean(train_scores, axis=1), 'o-', label='Training score')\n",
    "plt.plot(train_sizes, np.mean(test_scores, axis=1), 'o-', label='Cross-validation score')"
   ]
  }
 ],
 "metadata": {
  "kernelspec": {
   "display_name": "Python 3 (ipykernel)",
   "language": "python",
   "name": "python3"
  },
  "language_info": {
   "codemirror_mode": {
    "name": "ipython",
    "version": 3
   },
   "file_extension": ".py",
   "mimetype": "text/x-python",
   "name": "python",
   "nbconvert_exporter": "python",
   "pygments_lexer": "ipython3",
   "version": "3.9.13"
  }
 },
 "nbformat": 4,
 "nbformat_minor": 5
}
